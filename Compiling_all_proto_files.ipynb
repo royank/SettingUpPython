{
 "cells": [
  {
   "cell_type": "markdown",
   "metadata": {},
   "source": [
    "# stefania git"
   ]
  },
  {
   "cell_type": "code",
   "execution_count": 21,
   "metadata": {
    "collapsed": true,
    "deletable": true,
    "editable": true
   },
   "outputs": [],
   "source": [
    "# Import statements\n",
    "\n",
    "import subprocess\n",
    "import os.path\n",
    "import os"
   ]
  },
  {
   "cell_type": "code",
   "execution_count": 22,
   "metadata": {
    "collapsed": true,
    "deletable": true,
    "editable": true
   },
   "outputs": [],
   "source": [
    "# Paths\n",
    "\n",
    "## Protos files location\n",
    "# models-master/research/object_detection/protos/ \n",
    "files_path = 'C:/Users/sgs416/Desktop/Roy_Object Detection/TensorFlow/models-master/research/object_detection/protos/'\n",
    "\n",
    "## Current Working Directory(required for the protoc build)\n",
    "# models-master/research/\n",
    "cwd_= \"C:/Users/sgs416/Desktop/Roy_Object Detection/TensorFlow/models-master/research/\""
   ]
  },
  {
   "cell_type": "code",
   "execution_count": 23,
   "metadata": {
    "collapsed": true,
    "deletable": true,
    "editable": true
   },
   "outputs": [],
   "source": [
    "# Reading all file names in folder\n",
    "path, dirs, files = os.walk(files_path).__next__()\n",
    "\n",
    "files.remove('BUILD')\n",
    "files.remove('__init__.py')"
   ]
  },
  {
   "cell_type": "code",
   "execution_count": 24,
   "metadata": {
    "collapsed": true,
    "deletable": true,
    "editable": true,
    "scrolled": true
   },
   "outputs": [],
   "source": [
    "## Check file names\n",
    "# files"
   ]
  },
  {
   "cell_type": "code",
   "execution_count": 25,
   "metadata": {
    "collapsed": true,
    "deletable": true,
    "editable": true
   },
   "outputs": [],
   "source": [
    "def to_cmd(str_cmd,cwd_):\n",
    "    ''' Define a function that takes a 2 strings, str_cmd and cwd_ \n",
    "    str_cmd : Commad to send to CMD\n",
    "    cwd_    : Current working directory, from which dir would we like the cmd to execute the command\n",
    "    '''\n",
    "    try:\n",
    "        subprocess.check_output(str_cmd, cwd=cwd_, shell=True, stderr=subprocess.STDOUT)\n",
    "    except subprocess.CalledProcessError as e:\n",
    "        raise RuntimeError(\"command '{}' return with error (code {}): {}\".format(e.cmd, e.returncode, e.output))"
   ]
  },
  {
   "cell_type": "code",
   "execution_count": 26,
   "metadata": {
    "collapsed": false,
    "deletable": true,
    "editable": true
   },
   "outputs": [
    {
     "name": "stdout",
     "output_type": "stream",
     "text": [
      "C:/Users/sgs416/Desktop/DL/bin/protoc object_detection/protos/anchor_generator.proto --python_out=.\n",
      "C:/Users/sgs416/Desktop/DL/bin/protoc object_detection/protos/argmax_matcher.proto --python_out=.\n",
      "C:/Users/sgs416/Desktop/DL/bin/protoc object_detection/protos/bipartite_matcher.proto --python_out=.\n",
      "C:/Users/sgs416/Desktop/DL/bin/protoc object_detection/protos/box_coder.proto --python_out=.\n",
      "C:/Users/sgs416/Desktop/DL/bin/protoc object_detection/protos/box_predictor.proto --python_out=.\n",
      "C:/Users/sgs416/Desktop/DL/bin/protoc object_detection/protos/eval.proto --python_out=.\n",
      "C:/Users/sgs416/Desktop/DL/bin/protoc object_detection/protos/faster_rcnn.proto --python_out=.\n",
      "C:/Users/sgs416/Desktop/DL/bin/protoc object_detection/protos/faster_rcnn_box_coder.proto --python_out=.\n",
      "C:/Users/sgs416/Desktop/DL/bin/protoc object_detection/protos/grid_anchor_generator.proto --python_out=.\n",
      "C:/Users/sgs416/Desktop/DL/bin/protoc object_detection/protos/hyperparams.proto --python_out=.\n",
      "C:/Users/sgs416/Desktop/DL/bin/protoc object_detection/protos/image_resizer.proto --python_out=.\n",
      "C:/Users/sgs416/Desktop/DL/bin/protoc object_detection/protos/input_reader.proto --python_out=.\n",
      "C:/Users/sgs416/Desktop/DL/bin/protoc object_detection/protos/keypoint_box_coder.proto --python_out=.\n",
      "C:/Users/sgs416/Desktop/DL/bin/protoc object_detection/protos/losses.proto --python_out=.\n",
      "C:/Users/sgs416/Desktop/DL/bin/protoc object_detection/protos/matcher.proto --python_out=.\n",
      "C:/Users/sgs416/Desktop/DL/bin/protoc object_detection/protos/mean_stddev_box_coder.proto --python_out=.\n",
      "C:/Users/sgs416/Desktop/DL/bin/protoc object_detection/protos/model.proto --python_out=.\n",
      "C:/Users/sgs416/Desktop/DL/bin/protoc object_detection/protos/optimizer.proto --python_out=.\n",
      "C:/Users/sgs416/Desktop/DL/bin/protoc object_detection/protos/pipeline.proto --python_out=.\n",
      "C:/Users/sgs416/Desktop/DL/bin/protoc object_detection/protos/post_processing.proto --python_out=.\n",
      "C:/Users/sgs416/Desktop/DL/bin/protoc object_detection/protos/preprocessor.proto --python_out=.\n",
      "C:/Users/sgs416/Desktop/DL/bin/protoc object_detection/protos/region_similarity_calculator.proto --python_out=.\n",
      "C:/Users/sgs416/Desktop/DL/bin/protoc object_detection/protos/square_box_coder.proto --python_out=.\n",
      "C:/Users/sgs416/Desktop/DL/bin/protoc object_detection/protos/ssd.proto --python_out=.\n",
      "C:/Users/sgs416/Desktop/DL/bin/protoc object_detection/protos/ssd_anchor_generator.proto --python_out=.\n",
      "C:/Users/sgs416/Desktop/DL/bin/protoc object_detection/protos/string_int_label_map.proto --python_out=.\n",
      "C:/Users/sgs416/Desktop/DL/bin/protoc object_detection/protos/train.proto --python_out=.\n"
     ]
    }
   ],
   "source": [
    "# Complie all proto\n",
    "for i in files:\n",
    "    batcmd= \"C:/Users/sgs416/Desktop/DL/bin/protoc object_detection/protos/{} --python_out=.\".format(i)\n",
    "    print(batcmd)\n",
    "    # Call to_cmd\n",
    "    to_cmd(batcmd,cwd_)"
   ]
  },
  {
   "cell_type": "code",
   "execution_count": null,
   "metadata": {
    "collapsed": true,
    "deletable": true,
    "editable": true
   },
   "outputs": [],
   "source": []
  }
 ],
 "metadata": {
  "kernelspec": {
   "display_name": "Python 3",
   "language": "python",
   "name": "python3"
  },
  "language_info": {
   "codemirror_mode": {
    "name": "ipython",
    "version": 3
   },
   "file_extension": ".py",
   "mimetype": "text/x-python",
   "name": "python",
   "nbconvert_exporter": "python",
   "pygments_lexer": "ipython3",
   "version": "3.5.2"
  }
 },
 "nbformat": 4,
 "nbformat_minor": 2
}
